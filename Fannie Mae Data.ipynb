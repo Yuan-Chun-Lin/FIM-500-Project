{
 "cells": [
  {
   "cell_type": "code",
   "execution_count": 1,
   "id": "48596a04",
   "metadata": {},
   "outputs": [],
   "source": [
    "import pandas as pd\n",
    "import numpy as np\n",
    "import gc"
   ]
  },
  {
   "cell_type": "code",
   "execution_count": null,
   "id": "cd7e2b7d",
   "metadata": {
    "scrolled": true
   },
   "outputs": [],
   "source": [
    "#Load data from excel and split by \"|\"\n",
    "df = pd.read_csv('D:/FIM 500 Project/Excel raw data/2008Q1.csv',header = 0,names = ['Reference Pool ID', 'Loan Identifier', 'Monthly Reporting Period', 'Channel', 'Seller Name', \n",
    "     'Servicer Name', 'Master Servicer', 'Original Interest Rate', 'Current Interest Rate', 'Original UPB', \n",
    "     'UPB at Issuance', 'Current Actual UPB', 'Original Loan Term', 'Origination Date', 'First Payment Date', \n",
    "     'Loan Age', 'Remaining Months to Legal Maturity', 'Remaining Months To Maturity', 'Maturity Date', 'Original Loan to Value Ratio (LTV)' \n",
    "    ,'Original Combined Loan to Value Ratio (CLTV)', 'Number of Borrowers', 'Debt-To-Income (DTI)', 'Borrower Credit Score at Origination', \n",
    "     'Co-Borrower Credit Score at Origination', 'First Time Home Buyer Indicator', 'Loan Purpose', 'Property Type', 'Number of Units', \n",
    "     'Occupancy Status', 'Property State', 'Metropolitan Statistical Area (MSA)', 'Zip Code Short', 'Mortgage Insurance Percentage', \n",
    "     'Amortization Type', 'Prepayment Penalty Indicator', 'Interest Only Loan Indicator', 'Interest Only First Principal And Interest Payment Date', \n",
    "     'Months to Amortization', 'Current Loan Delinquency Status', 'Loan Payment History', 'Modification Flag', 'Mortgage Insurance Cancellation Indicator', \n",
    "     'Zero Balance Code', 'Zero Balance Effective Date', 'UPB at the Time of Removal', 'Repurchase Date', 'Scheduled Principal Current', \n",
    "     'Total Principal Current', 'Unscheduled Principal Current', 'Last Paid Installment Date', 'Foreclosure Date', 'Disposition Date', \n",
    "     'Foreclosure Costs', 'Property Preservation and Repair Costs', 'Asset Recovery Costs', 'Miscellaneous Holding Expenses and Credits', 'Associated Taxes for Holding Property', \n",
    "     'Net Sales Proceeds', 'Credit Enhancement Proceeds', 'Repurchase Make Whole Proceeds', 'Other Foreclosure Proceeds', 'Non-Interest Bearing UPB', 'Principal Forgiveness Amount' \n",
    "     ,'Original List Start Date', 'Original List Price', 'Current List Start Date', 'Current List Price', 'Borrower Credit Score At Issuance', \n",
    "     'Co-Borrower Credit Score At Issuance', 'Borrower Credit Score Current', 'Co-Borrower Credit Score Current', 'Mortgage Insurance Type', 'Servicing Activity Indicator' \n",
    "    ,'Current Period Modification Loss Amount', 'Cumulative Modification Loss Amount', 'Current Period Credit Event Net Gain or Loss', 'Cumulative Credit Event Net Gain or Loss', \n",
    "     'HomeReady Program Indicator', 'Foreclosure Principal Write-off Amount', 'Relocation Mortgage Indicator', 'Zero Balance Code Change Date', 'Loan Holdback Indicator', \n",
    "     'Loan Holdback Effective Date', 'Delinquent Accrued Interest', 'Property Valuation Method', 'High Balance Loan Indicator', 'ARM Initial Fixed-Rate Period ≤ 5 YR Indicator', \n",
    "     'ARM Product Type', 'Initial Fixed-Rate Period', 'Interest Rate Adjustment Frequency', 'Next Interest Rate Adjustment Date', 'Next Payment Change Date', 'Index', \n",
    "     'ARM Cap Structure', 'Initial Interest Rate Cap Up Percent', 'Periodic Interest Rate Cap Up Percent', 'Lifetime Interest Rate Cap Up Percent', 'Mortgage Margin' \n",
    "    ,'ARM Balloon Indicator', 'ARM Plan Number', 'Borrower Assistance Plan', 'High Loan to Value (HLTV) Refinance Option Indicator', 'Deal Name' \n",
    "    ,'Repurchase Make Whole Proceeds Flag', 'Alternative Delinquency Resolution', 'Alternative Delinquency Resolution Count', 'Total Deferral Amount'\n",
    "], delimiter = '|')\n"
   ]
  },
  {
   "cell_type": "code",
   "execution_count": null,
   "id": "a0481264",
   "metadata": {},
   "outputs": [],
   "source": [
    "df.head()"
   ]
  },
  {
   "cell_type": "code",
   "execution_count": null,
   "id": "d2218330",
   "metadata": {
    "scrolled": true
   },
   "outputs": [],
   "source": [
    "len(df['Loan Identifier'].unique())"
   ]
  },
  {
   "cell_type": "code",
   "execution_count": null,
   "id": "da4abb1f",
   "metadata": {},
   "outputs": [],
   "source": [
    "# Main LGD model: Loss = \"Loan Balance\" + Costs – Property Sales Price – Mortgage Insurance Payment\n",
    "# Factor related to \"Loan Balance\" : Original UPB(10), UPB at Issuance(11),Current Actual UPB(12) \n",
    "Loan_Balance = {1:'Original UPB', 2:'UPB at Issuance', 3:'Current Actual UPB'}\n",
    "Cols_Loan_Balance = df[['Original UPB', 'UPB at Issuance', 'Current Actual UPB']]\n",
    "Cols_Loan_Balance.head()"
   ]
  },
  {
   "cell_type": "code",
   "execution_count": null,
   "id": "afef4cf1",
   "metadata": {},
   "outputs": [],
   "source": [
    "# Main model: Loss = Loan Balance + \"Costs\" – Property Sales Price – Mortgage Insurance Payment\n",
    "# Factor related to \"Costs\" : Asset Recovery Costs (56), Miscellaneous Holding Expenses and Credits (57)\n",
    "# Associated Taxes for Holding Property (58), Foreclosure Costs (54)\n",
    "# Property Preservation and Repair Costs (55)\n",
    "\n",
    "Costs = {1:'Asset Recovery Costs', 2:'Miscellaneous Holding Expenses and Credits', 3:'Associated Taxes for Holding Property',\n",
    "        4:'Foreclosure Costs', 5:'Property Preservation and Repair Costs'}\n",
    "Cols_costs = df[['Asset Recovery Costs', 'Miscellaneous Holding Expenses and Credits',\n",
    "                'Associated Taxes for Holding Property', 'Foreclosure Costs', 'Property Preservation and Repair Costs']]\n",
    "Cols_costs.head()"
   ]
  },
  {
   "cell_type": "code",
   "execution_count": null,
   "id": "751596dd",
   "metadata": {},
   "outputs": [],
   "source": [
    "# Main model: Loss = Loan Balance + Costs – \"Property Sales Price\" – Mortgage Insurance Payment\n",
    "# Factors relate to Property Sales Price(column #): Net Sales Proceeds (59), Other Foreclosure Proceeds (62), Property Type (28)\n",
    "Property_Sales_Price = {1:'Net Sales Proceeds', 2:'Other Foreclosure Proceeds', 3:'Property Type'}\n",
    "Cols_Property_Sales_Price = df[['Net Sales Proceeds', 'Other Foreclosure Proceeds', 'Property Type']]\n",
    "Cols_Property_Sales_Price.head()"
   ]
  },
  {
   "cell_type": "code",
   "execution_count": null,
   "id": "8d51f7d9",
   "metadata": {},
   "outputs": [],
   "source": [
    "# Main model: Loss = Loan Balance + Costs – Property Sales Price – \"Mortgage Insurance Payment\"\n",
    "# Factors relate to Mortgage Insurance Payment(column #): Credit Enhancement Proceeds (60), Mortgage Insurance Percentage (34), \n",
    "# Mortgage Insurance Cancellation Indicator (43), Mortgage Insurance Type (73)\n",
    "Mortgage_Insurance_Payment = {1:'Credit Enhancement Proceeds', 2:'Mortgage Insurance Percentage',\n",
    "                              3:'Mortgage Insurance Cancellation Indicator', 4:'Mortgage Insurance Type'}\n",
    "Cols_Mortgage_Insurance_Payment = df[['Credit Enhancement Proceeds', 'Mortgage Insurance Percentage',\n",
    "                        'Mortgage Insurance Cancellation Indicator', 'Mortgage Insurance Type']]\n",
    "Cols_Mortgage_Insurance_Payment.head()"
   ]
  },
  {
   "cell_type": "code",
   "execution_count": null,
   "id": "91a2f776",
   "metadata": {
    "scrolled": true
   },
   "outputs": [],
   "source": [
    "# It will lead to memory error!\n",
    "Lgddf = Cols_Loan_Balance.append(Cols_costs).append(Cols_Property_Sales_Price).append(Cols_Mortgage_Insurance_Payment)\n",
    "Lgddf.head()\n"
   ]
  },
  {
   "cell_type": "code",
   "execution_count": null,
   "id": "1a4b1b1b",
   "metadata": {},
   "outputs": [],
   "source": [
    "del df\n",
    "gc.collect()"
   ]
  },
  {
   "cell_type": "code",
   "execution_count": null,
   "id": "09652ceb",
   "metadata": {},
   "outputs": [],
   "source": [
    "# Use .describe() to find summary statistics of columns \n",
    "SS_Loan_Balance = Cols_Loan_Balance.describe()\n",
    "SS_costs = Cols_costs.describe()\n",
    "SS_Property_Sales_Price = Cols_Property_Sales_Price.describe()\n",
    "SS_Mortgage_Insurance_Payment = Cols_Mortgage_Insurance_Payment.describe()"
   ]
  },
  {
   "cell_type": "code",
   "execution_count": null,
   "id": "fb35ffcd",
   "metadata": {},
   "outputs": [],
   "source": [
    "SS_Mortgage_Insurance_Payment"
   ]
  },
  {
   "cell_type": "code",
   "execution_count": null,
   "id": "7cc6d7ef",
   "metadata": {},
   "outputs": [],
   "source": [
    "# Use .isna().sum() to find that all data in column \"UPB at Issuance\" is NaN \n",
    "Cols_Loan_Balance.isna().sum()"
   ]
  }
 ],
 "metadata": {
  "kernelspec": {
   "display_name": "Python 3",
   "language": "python",
   "name": "python3"
  },
  "language_info": {
   "codemirror_mode": {
    "name": "ipython",
    "version": 3
   },
   "file_extension": ".py",
   "mimetype": "text/x-python",
   "name": "python",
   "nbconvert_exporter": "python",
   "pygments_lexer": "ipython3",
   "version": "3.8.8"
  }
 },
 "nbformat": 4,
 "nbformat_minor": 5
}
